{
  "nbformat": 4,
  "nbformat_minor": 0,
  "metadata": {
    "colab": {
      "name": "Untitled5.ipynb",
      "provenance": [],
      "toc_visible": true,
      "authorship_tag": "ABX9TyNueV+NbXK0FsTKUbTSqw7x",
      "include_colab_link": true
    },
    "kernelspec": {
      "name": "python3",
      "display_name": "Python 3"
    }
  },
  "cells": [
    {
      "cell_type": "markdown",
      "metadata": {
        "id": "view-in-github",
        "colab_type": "text"
      },
      "source": [
        "<a href=\"https://colab.research.google.com/github/19PA1A05B4/VITBML-EDA1/blob/master/Untitled5.ipynb\" target=\"_parent\"><img src=\"https://colab.research.google.com/assets/colab-badge.svg\" alt=\"Open In Colab\"/></a>"
      ]
    },
    {
      "cell_type": "markdown",
      "metadata": {
        "id": "wa4VBtO16zGO",
        "colab_type": "text"
      },
      "source": [
        "# Topic : structural protien sequences"
      ]
    },
    {
      "cell_type": "markdown",
      "metadata": {
        "id": "9FPMn_c47GFA",
        "colab_type": "text"
      },
      "source": [
        "  **Explore data:-** we have taken thisdata from the online sources like ::https://www.kaggle.com/shahir/protein-data-"
      ]
    },
    {
      "cell_type": "markdown",
      "metadata": {
        "id": "qPjf1R5U6u2a",
        "colab_type": "text"
      },
      "source": [
        "# Description"
      ]
    },
    {
      "cell_type": "markdown",
      "metadata": {
        "id": "cQfVmeMe8Vi_",
        "colab_type": "text"
      },
      "source": [
        "the following  data set contains 141401 columns and 14 columns ;,"
      ]
    },
    {
      "cell_type": "markdown",
      "metadata": {
        "id": "lSzEU1VR8OrK",
        "colab_type": "text"
      },
      "source": [
        "**This is a protein data set retrieved from Research Collaboratory for Structural Bioinformatics (RCSB) Protein Data Bank (PDB**"
      ]
    },
    {
      "cell_type": "markdown",
      "metadata": {
        "id": "SPqJ8h_s9RzP",
        "colab_type": "text"
      },
      "source": [
        ""
      ]
    },
    {
      "cell_type": "code",
      "metadata": {
        "id": "eonun48e8NAa",
        "colab_type": "code",
        "colab": {}
      },
      "source": [
        "import pandas as pd\n",
        "import numpy as np\n",
        "import matplotlib.pyplot as plt\n",
        "import seaborn as sb"
      ],
      "execution_count": 0,
      "outputs": []
    },
    {
      "cell_type": "code",
      "metadata": {
        "id": "x46Ygdcr47QQ",
        "colab_type": "code",
        "outputId": "cd7955d3-c779-44b3-beb7-cbaef47fcd4b",
        "colab": {
          "base_uri": "https://localhost:8080/",
          "height": 255
        }
      },
      "source": [
        "# reading the data\n",
        "a=pd.read_csv('pdb_data_no_dups.csv')\n",
        "print(a)"
      ],
      "execution_count": 0,
      "outputs": [
        {
          "output_type": "stream",
          "text": [
            "       structureId  ... publicationYear\n",
            "0             100D  ...          1994.0\n",
            "1             101D  ...          1995.0\n",
            "2             101M  ...          1999.0\n",
            "3             102D  ...          1995.0\n",
            "4             102L  ...          1993.0\n",
            "...            ...  ...             ...\n",
            "141396        9RUB  ...          1991.0\n",
            "141397        9TNA  ...          1986.0\n",
            "141398        9WGA  ...          1990.0\n",
            "141399        9XIA  ...          1989.0\n",
            "141400        9XIM  ...          1992.0\n",
            "\n",
            "[141401 rows x 14 columns]\n"
          ],
          "name": "stdout"
        }
      ]
    },
    {
      "cell_type": "markdown",
      "metadata": {
        "id": "MJEc1XOhNAUG",
        "colab_type": "text"
      },
      "source": [
        "# Questions"
      ]
    },
    {
      "cell_type": "markdown",
      "metadata": {
        "id": "eRStlVlGNFm9",
        "colab_type": "text"
      },
      "source": [
        "\n",
        "\n",
        "1.   what is the highest structure molecularweight noted in the data set?\n",
        "\n",
        "1.   what is the avg ph value of protiens?\n",
        "\n",
        "1.   what is the avg molecularweight of protiens?\n",
        "\n",
        "1.   what is the highest crystallization temp noted?\n",
        "2.   what is the avg density percentagesols of the protiens?\n",
        "\n",
        "2.   what is the highest ph value?\n",
        "\n",
        "2. which technique is used to perform experiment?  \n",
        "\n",
        "2.   In which macromolucular form the max protiens are occured?\n",
        "\n",
        "1.   what is the highest residue count in the experiment?\n",
        "2.  what is the avg resolution occured in the experiment?\n",
        "\n",
        "\n",
        "\n"
      ]
    },
    {
      "cell_type": "markdown",
      "metadata": {
        "id": "XKcx-ZGJ9sBC",
        "colab_type": "text"
      },
      "source": [
        "# Preliminary Analysis"
      ]
    },
    {
      "cell_type": "code",
      "metadata": {
        "id": "-UQsnYwr92Cz",
        "colab_type": "code",
        "outputId": "35921228-0efb-4337-d0dc-e2f7d68540e3",
        "colab": {
          "base_uri": "https://localhost:8080/",
          "height": 34
        }
      },
      "source": [
        "#dimensions of the data\n",
        "a.shape"
      ],
      "execution_count": 0,
      "outputs": [
        {
          "output_type": "execute_result",
          "data": {
            "text/plain": [
              "(141401, 14)"
            ]
          },
          "metadata": {
            "tags": []
          },
          "execution_count": 7
        }
      ]
    },
    {
      "cell_type": "code",
      "metadata": {
        "id": "PJjNg4fa92l9",
        "colab_type": "code",
        "outputId": "e42db7e3-9c2e-4313-c892-139529aafc53",
        "colab": {
          "base_uri": "https://localhost:8080/",
          "height": 34
        }
      },
      "source": [
        "# dimensions\n",
        "a.ndim"
      ],
      "execution_count": 0,
      "outputs": [
        {
          "output_type": "execute_result",
          "data": {
            "text/plain": [
              "2"
            ]
          },
          "metadata": {
            "tags": []
          },
          "execution_count": 9
        }
      ]
    },
    {
      "cell_type": "code",
      "metadata": {
        "id": "sbetsL_Y_4sm",
        "colab_type": "code",
        "outputId": "1b6a2c70-ba25-46c5-f841-8e1b6626d8ee",
        "colab": {
          "base_uri": "https://localhost:8080/",
          "height": 340
        }
      },
      "source": [
        "a.info()"
      ],
      "execution_count": 0,
      "outputs": [
        {
          "output_type": "stream",
          "text": [
            "<class 'pandas.core.frame.DataFrame'>\n",
            "RangeIndex: 141401 entries, 0 to 141400\n",
            "Data columns (total 14 columns):\n",
            "structureId                 141401 non-null object\n",
            "classification              141399 non-null object\n",
            "experimentalTechnique       141401 non-null object\n",
            "macromoleculeType           137636 non-null object\n",
            "residueCount                141401 non-null int64\n",
            "resolution                  128589 non-null float64\n",
            "structureMolecularWeight    141401 non-null float64\n",
            "crystallizationMethod       96242 non-null object\n",
            "crystallizationTempK        97039 non-null float64\n",
            "densityMatthews             124724 non-null float64\n",
            "densityPercentSol           124749 non-null float64\n",
            "pdbxDetails                 118534 non-null object\n",
            "phValue                     105110 non-null float64\n",
            "publicationYear             117602 non-null float64\n",
            "dtypes: float64(7), int64(1), object(6)\n",
            "memory usage: 15.1+ MB\n"
          ],
          "name": "stdout"
        }
      ]
    },
    {
      "cell_type": "markdown",
      "metadata": {
        "id": "hD8vGbnO_Xju",
        "colab_type": "text"
      },
      "source": [
        "# Central tendency of the data"
      ]
    },
    {
      "cell_type": "code",
      "metadata": {
        "id": "OJ50ph13_GTD",
        "colab_type": "code",
        "outputId": "fb537bd4-c3df-4c5d-9928-d137e4add298",
        "colab": {
          "base_uri": "https://localhost:8080/",
          "height": 317
        }
      },
      "source": [
        "# describing the dataphValuehe avg resolution occured in the experiment\n",
        "a.describe()"
      ],
      "execution_count": 0,
      "outputs": [
        {
          "output_type": "execute_result",
          "data": {
            "text/html": [
              "<div>\n",
              "<style scoped>\n",
              "    .dataframe tbody tr th:only-of-type {\n",
              "        vertical-align: middle;\n",
              "    }\n",
              "\n",
              "    .dataframe tbody tr th {\n",
              "        vertical-align: top;\n",
              "    }\n",
              "\n",
              "    .dataframe thead th {\n",
              "        text-align: right;\n",
              "    }\n",
              "</style>\n",
              "<table border=\"1\" class=\"dataframe\">\n",
              "  <thead>\n",
              "    <tr style=\"text-align: right;\">\n",
              "      <th></th>\n",
              "      <th>residueCount</th>\n",
              "      <th>resolution</th>\n",
              "      <th>structureMolecularWeight</th>\n",
              "      <th>crystallizationTempK</th>\n",
              "      <th>densityMatthews</th>\n",
              "      <th>densityPercentSol</th>\n",
              "      <th>phValue</th>\n",
              "      <th>publicationYear</th>\n",
              "    </tr>\n",
              "  </thead>\n",
              "  <tbody>\n",
              "    <tr>\n",
              "      <th>count</th>\n",
              "      <td>141401.000000</td>\n",
              "      <td>128589.000000</td>\n",
              "      <td>1.414010e+05</td>\n",
              "      <td>97039.000000</td>\n",
              "      <td>124724.000000</td>\n",
              "      <td>124749.000000</td>\n",
              "      <td>105110.000000</td>\n",
              "      <td>117602.000000</td>\n",
              "    </tr>\n",
              "    <tr>\n",
              "      <th>mean</th>\n",
              "      <td>825.374849</td>\n",
              "      <td>2.263807</td>\n",
              "      <td>1.120790e+05</td>\n",
              "      <td>290.967713</td>\n",
              "      <td>2.670267</td>\n",
              "      <td>51.353163</td>\n",
              "      <td>6.788685</td>\n",
              "      <td>2008.922365</td>\n",
              "    </tr>\n",
              "    <tr>\n",
              "      <th>std</th>\n",
              "      <td>2136.461080</td>\n",
              "      <td>1.410878</td>\n",
              "      <td>5.690152e+05</td>\n",
              "      <td>9.541080</td>\n",
              "      <td>0.783740</td>\n",
              "      <td>10.104561</td>\n",
              "      <td>2.556819</td>\n",
              "      <td>8.459286</td>\n",
              "    </tr>\n",
              "    <tr>\n",
              "      <th>min</th>\n",
              "      <td>0.000000</td>\n",
              "      <td>0.480000</td>\n",
              "      <td>3.143800e+02</td>\n",
              "      <td>4.000000</td>\n",
              "      <td>0.000000</td>\n",
              "      <td>0.000000</td>\n",
              "      <td>0.000000</td>\n",
              "      <td>201.000000</td>\n",
              "    </tr>\n",
              "    <tr>\n",
              "      <th>25%</th>\n",
              "      <td>226.000000</td>\n",
              "      <td>1.800000</td>\n",
              "      <td>2.612856e+04</td>\n",
              "      <td>290.000000</td>\n",
              "      <td>2.210000</td>\n",
              "      <td>44.370000</td>\n",
              "      <td>6.000000</td>\n",
              "      <td>2005.000000</td>\n",
              "    </tr>\n",
              "    <tr>\n",
              "      <th>50%</th>\n",
              "      <td>414.000000</td>\n",
              "      <td>2.100000</td>\n",
              "      <td>4.747779e+04</td>\n",
              "      <td>293.000000</td>\n",
              "      <td>2.490000</td>\n",
              "      <td>50.500000</td>\n",
              "      <td>7.000000</td>\n",
              "      <td>2010.000000</td>\n",
              "    </tr>\n",
              "    <tr>\n",
              "      <th>75%</th>\n",
              "      <td>820.000000</td>\n",
              "      <td>2.500000</td>\n",
              "      <td>9.408484e+04</td>\n",
              "      <td>295.000000</td>\n",
              "      <td>2.910000</td>\n",
              "      <td>57.710000</td>\n",
              "      <td>7.500000</td>\n",
              "      <td>2014.000000</td>\n",
              "    </tr>\n",
              "    <tr>\n",
              "      <th>max</th>\n",
              "      <td>313236.000000</td>\n",
              "      <td>70.000000</td>\n",
              "      <td>9.773054e+07</td>\n",
              "      <td>398.000000</td>\n",
              "      <td>99.000000</td>\n",
              "      <td>92.000000</td>\n",
              "      <td>724.000000</td>\n",
              "      <td>2018.000000</td>\n",
              "    </tr>\n",
              "  </tbody>\n",
              "</table>\n",
              "</div>"
            ],
            "text/plain": [
              "        residueCount     resolution  ...        phValue  publicationYear\n",
              "count  141401.000000  128589.000000  ...  105110.000000    117602.000000\n",
              "mean      825.374849       2.263807  ...       6.788685      2008.922365\n",
              "std      2136.461080       1.410878  ...       2.556819         8.459286\n",
              "min         0.000000       0.480000  ...       0.000000       201.000000\n",
              "25%       226.000000       1.800000  ...       6.000000      2005.000000\n",
              "50%       414.000000       2.100000  ...       7.000000      2010.000000\n",
              "75%       820.000000       2.500000  ...       7.500000      2014.000000\n",
              "max    313236.000000      70.000000  ...     724.000000      2018.000000\n",
              "\n",
              "[8 rows x 8 columns]"
            ]
          },
          "metadata": {
            "tags": []
          },
          "execution_count": 10
        }
      ]
    },
    {
      "cell_type": "markdown",
      "metadata": {
        "id": "7ZCtrEFnBM3e",
        "colab_type": "text"
      },
      "source": [
        "# Checking whether the data contains nan values"
      ]
    },
    {
      "cell_type": "code",
      "metadata": {
        "id": "DFNB5tlkBI0f",
        "colab_type": "code",
        "outputId": "abed6a0f-b693-41e2-c192-3980ef03cccc",
        "colab": {
          "base_uri": "https://localhost:8080/",
          "height": 439
        }
      },
      "source": [
        "a.isna(structureMolecularWeight)"
      ],
      "execution_count": 0,
      "outputs": [
        {
          "output_type": "execute_result",
          "data": {
            "text/html": [
              "<div>\n",
              "<style scoped>\n",
              "    .dataframe tbody tr th:only-of-type {\n",
              "        vertical-align: middle;\n",
              "    }\n",
              "\n",
              "    .dataframe tbody tr th {\n",
              "        vertical-align: top;\n",
              "    }\n",
              "\n",
              "    .dataframe thead th {\n",
              "        text-align: right;\n",
              "    }\n",
              "</style>\n",
              "<table border=\"1\" class=\"dataframe\">\n",
              "  <thead>\n",
              "    <tr style=\"text-align: right;\">\n",
              "      <th></th>\n",
              "      <th>structureId</th>\n",
              "      <th>classification</th>\n",
              "      <th>experimentalTechnique</th>\n",
              "      <th>macromoleculeType</th>\n",
              "      <th>residueCount</th>\n",
              "      <th>resolution</th>\n",
              "      <th>structureMolecularWeight</th>\n",
              "      <th>crystallizationMethod</th>\n",
              "      <th>crystallizationTempK</th>\n",
              "      <th>densityMatthews</th>\n",
              "      <th>densityPercentSol</th>\n",
              "      <th>pdbxDetails</th>\n",
              "      <th>phValue</th>\n",
              "      <th>publicationYear</th>\n",
              "    </tr>\n",
              "  </thead>\n",
              "  <tbody>\n",
              "    <tr>\n",
              "      <th>0</th>\n",
              "      <td>False</td>\n",
              "      <td>False</td>\n",
              "      <td>False</td>\n",
              "      <td>False</td>\n",
              "      <td>False</td>\n",
              "      <td>False</td>\n",
              "      <td>False</td>\n",
              "      <td>False</td>\n",
              "      <td>True</td>\n",
              "      <td>False</td>\n",
              "      <td>False</td>\n",
              "      <td>False</td>\n",
              "      <td>False</td>\n",
              "      <td>False</td>\n",
              "    </tr>\n",
              "    <tr>\n",
              "      <th>1</th>\n",
              "      <td>False</td>\n",
              "      <td>False</td>\n",
              "      <td>False</td>\n",
              "      <td>False</td>\n",
              "      <td>False</td>\n",
              "      <td>False</td>\n",
              "      <td>False</td>\n",
              "      <td>True</td>\n",
              "      <td>True</td>\n",
              "      <td>False</td>\n",
              "      <td>False</td>\n",
              "      <td>True</td>\n",
              "      <td>True</td>\n",
              "      <td>False</td>\n",
              "    </tr>\n",
              "    <tr>\n",
              "      <th>2</th>\n",
              "      <td>False</td>\n",
              "      <td>False</td>\n",
              "      <td>False</td>\n",
              "      <td>False</td>\n",
              "      <td>False</td>\n",
              "      <td>False</td>\n",
              "      <td>False</td>\n",
              "      <td>True</td>\n",
              "      <td>True</td>\n",
              "      <td>False</td>\n",
              "      <td>False</td>\n",
              "      <td>False</td>\n",
              "      <td>False</td>\n",
              "      <td>False</td>\n",
              "    </tr>\n",
              "    <tr>\n",
              "      <th>3</th>\n",
              "      <td>False</td>\n",
              "      <td>False</td>\n",
              "      <td>False</td>\n",
              "      <td>False</td>\n",
              "      <td>False</td>\n",
              "      <td>False</td>\n",
              "      <td>False</td>\n",
              "      <td>False</td>\n",
              "      <td>False</td>\n",
              "      <td>False</td>\n",
              "      <td>False</td>\n",
              "      <td>False</td>\n",
              "      <td>False</td>\n",
              "      <td>False</td>\n",
              "    </tr>\n",
              "    <tr>\n",
              "      <th>4</th>\n",
              "      <td>False</td>\n",
              "      <td>False</td>\n",
              "      <td>False</td>\n",
              "      <td>False</td>\n",
              "      <td>False</td>\n",
              "      <td>False</td>\n",
              "      <td>False</td>\n",
              "      <td>True</td>\n",
              "      <td>True</td>\n",
              "      <td>False</td>\n",
              "      <td>False</td>\n",
              "      <td>True</td>\n",
              "      <td>True</td>\n",
              "      <td>False</td>\n",
              "    </tr>\n",
              "    <tr>\n",
              "      <th>...</th>\n",
              "      <td>...</td>\n",
              "      <td>...</td>\n",
              "      <td>...</td>\n",
              "      <td>...</td>\n",
              "      <td>...</td>\n",
              "      <td>...</td>\n",
              "      <td>...</td>\n",
              "      <td>...</td>\n",
              "      <td>...</td>\n",
              "      <td>...</td>\n",
              "      <td>...</td>\n",
              "      <td>...</td>\n",
              "      <td>...</td>\n",
              "      <td>...</td>\n",
              "    </tr>\n",
              "    <tr>\n",
              "      <th>141396</th>\n",
              "      <td>False</td>\n",
              "      <td>False</td>\n",
              "      <td>False</td>\n",
              "      <td>False</td>\n",
              "      <td>False</td>\n",
              "      <td>False</td>\n",
              "      <td>False</td>\n",
              "      <td>True</td>\n",
              "      <td>True</td>\n",
              "      <td>False</td>\n",
              "      <td>False</td>\n",
              "      <td>True</td>\n",
              "      <td>True</td>\n",
              "      <td>False</td>\n",
              "    </tr>\n",
              "    <tr>\n",
              "      <th>141397</th>\n",
              "      <td>False</td>\n",
              "      <td>False</td>\n",
              "      <td>False</td>\n",
              "      <td>True</td>\n",
              "      <td>False</td>\n",
              "      <td>True</td>\n",
              "      <td>False</td>\n",
              "      <td>True</td>\n",
              "      <td>True</td>\n",
              "      <td>False</td>\n",
              "      <td>False</td>\n",
              "      <td>True</td>\n",
              "      <td>True</td>\n",
              "      <td>False</td>\n",
              "    </tr>\n",
              "    <tr>\n",
              "      <th>141398</th>\n",
              "      <td>False</td>\n",
              "      <td>False</td>\n",
              "      <td>False</td>\n",
              "      <td>False</td>\n",
              "      <td>False</td>\n",
              "      <td>False</td>\n",
              "      <td>False</td>\n",
              "      <td>True</td>\n",
              "      <td>True</td>\n",
              "      <td>False</td>\n",
              "      <td>False</td>\n",
              "      <td>True</td>\n",
              "      <td>True</td>\n",
              "      <td>False</td>\n",
              "    </tr>\n",
              "    <tr>\n",
              "      <th>141399</th>\n",
              "      <td>False</td>\n",
              "      <td>False</td>\n",
              "      <td>False</td>\n",
              "      <td>False</td>\n",
              "      <td>False</td>\n",
              "      <td>False</td>\n",
              "      <td>False</td>\n",
              "      <td>True</td>\n",
              "      <td>True</td>\n",
              "      <td>False</td>\n",
              "      <td>False</td>\n",
              "      <td>True</td>\n",
              "      <td>True</td>\n",
              "      <td>False</td>\n",
              "    </tr>\n",
              "    <tr>\n",
              "      <th>141400</th>\n",
              "      <td>False</td>\n",
              "      <td>False</td>\n",
              "      <td>False</td>\n",
              "      <td>False</td>\n",
              "      <td>False</td>\n",
              "      <td>False</td>\n",
              "      <td>False</td>\n",
              "      <td>True</td>\n",
              "      <td>True</td>\n",
              "      <td>False</td>\n",
              "      <td>False</td>\n",
              "      <td>True</td>\n",
              "      <td>True</td>\n",
              "      <td>False</td>\n",
              "    </tr>\n",
              "  </tbody>\n",
              "</table>\n",
              "<p>141401 rows × 14 columns</p>\n",
              "</div>"
            ],
            "text/plain": [
              "        structureId  classification  ...  phValue  publicationYear\n",
              "0             False           False  ...    False            False\n",
              "1             False           False  ...     True            False\n",
              "2             False           False  ...    False            False\n",
              "3             False           False  ...    False            False\n",
              "4             False           False  ...     True            False\n",
              "...             ...             ...  ...      ...              ...\n",
              "141396        False           False  ...     True            False\n",
              "141397        False           False  ...     True            False\n",
              "141398        False           False  ...     True            False\n",
              "141399        False           False  ...     True            False\n",
              "141400        False           False  ...     True            False\n",
              "\n",
              "[141401 rows x 14 columns]"
            ]
          },
          "metadata": {
            "tags": []
          },
          "execution_count": 16
        }
      ]
    },
    {
      "cell_type": "markdown",
      "metadata": {
        "id": "7ulPlkxG_kCR",
        "colab_type": "text"
      },
      "source": [
        "# Cleaning the data\n"
      ]
    },
    {
      "cell_type": "code",
      "metadata": {
        "id": "HHr6xqwe_O5D",
        "colab_type": "code",
        "outputId": "4b36f8b1-7b08-4a06-bcf0-63457468c57e",
        "colab": {
          "base_uri": "https://localhost:8080/",
          "height": 694
        }
      },
      "source": [
        "a.fillna(0)"
      ],
      "execution_count": 0,
      "outputs": [
        {
          "output_type": "execute_result",
          "data": {
            "text/html": [
              "<div>\n",
              "<style scoped>\n",
              "    .dataframe tbody tr th:only-of-type {\n",
              "        vertical-align: middle;\n",
              "    }\n",
              "\n",
              "    .dataframe tbody tr th {\n",
              "        vertical-align: top;\n",
              "    }\n",
              "\n",
              "    .dataframe thead th {\n",
              "        text-align: right;\n",
              "    }\n",
              "</style>\n",
              "<table border=\"1\" class=\"dataframe\">\n",
              "  <thead>\n",
              "    <tr style=\"text-align: right;\">\n",
              "      <th></th>\n",
              "      <th>structureId</th>\n",
              "      <th>classification</th>\n",
              "      <th>experimentalTechnique</th>\n",
              "      <th>macromoleculeType</th>\n",
              "      <th>residueCount</th>\n",
              "      <th>resolution</th>\n",
              "      <th>structureMolecularWeight</th>\n",
              "      <th>crystallizationMethod</th>\n",
              "      <th>crystallizationTempK</th>\n",
              "      <th>densityMatthews</th>\n",
              "      <th>densityPercentSol</th>\n",
              "      <th>pdbxDetails</th>\n",
              "      <th>phValue</th>\n",
              "      <th>publicationYear</th>\n",
              "    </tr>\n",
              "  </thead>\n",
              "  <tbody>\n",
              "    <tr>\n",
              "      <th>0</th>\n",
              "      <td>100D</td>\n",
              "      <td>DNA-RNA HYBRID</td>\n",
              "      <td>X-RAY DIFFRACTION</td>\n",
              "      <td>DNA/RNA Hybrid</td>\n",
              "      <td>20</td>\n",
              "      <td>1.90</td>\n",
              "      <td>6360.30</td>\n",
              "      <td>VAPOR DIFFUSION, HANGING DROP</td>\n",
              "      <td>0.0</td>\n",
              "      <td>1.78</td>\n",
              "      <td>30.89</td>\n",
              "      <td>pH 7.00, VAPOR DIFFUSION, HANGING DROP</td>\n",
              "      <td>7.0</td>\n",
              "      <td>1994.0</td>\n",
              "    </tr>\n",
              "    <tr>\n",
              "      <th>1</th>\n",
              "      <td>101D</td>\n",
              "      <td>DNA</td>\n",
              "      <td>X-RAY DIFFRACTION</td>\n",
              "      <td>DNA</td>\n",
              "      <td>24</td>\n",
              "      <td>2.25</td>\n",
              "      <td>7939.35</td>\n",
              "      <td>0</td>\n",
              "      <td>0.0</td>\n",
              "      <td>2.00</td>\n",
              "      <td>38.45</td>\n",
              "      <td>0</td>\n",
              "      <td>0.0</td>\n",
              "      <td>1995.0</td>\n",
              "    </tr>\n",
              "    <tr>\n",
              "      <th>2</th>\n",
              "      <td>101M</td>\n",
              "      <td>OXYGEN TRANSPORT</td>\n",
              "      <td>X-RAY DIFFRACTION</td>\n",
              "      <td>Protein</td>\n",
              "      <td>154</td>\n",
              "      <td>2.07</td>\n",
              "      <td>18112.80</td>\n",
              "      <td>0</td>\n",
              "      <td>0.0</td>\n",
              "      <td>3.09</td>\n",
              "      <td>60.20</td>\n",
              "      <td>3.0 M AMMONIUM SULFATE, 20 MM TRIS, 1MM EDTA, ...</td>\n",
              "      <td>9.0</td>\n",
              "      <td>1999.0</td>\n",
              "    </tr>\n",
              "    <tr>\n",
              "      <th>3</th>\n",
              "      <td>102D</td>\n",
              "      <td>DNA</td>\n",
              "      <td>X-RAY DIFFRACTION</td>\n",
              "      <td>DNA</td>\n",
              "      <td>24</td>\n",
              "      <td>2.20</td>\n",
              "      <td>7637.17</td>\n",
              "      <td>VAPOR DIFFUSION, SITTING DROP</td>\n",
              "      <td>277.0</td>\n",
              "      <td>2.28</td>\n",
              "      <td>46.06</td>\n",
              "      <td>pH 7.00, VAPOR DIFFUSION, SITTING DROP, temper...</td>\n",
              "      <td>7.0</td>\n",
              "      <td>1995.0</td>\n",
              "    </tr>\n",
              "    <tr>\n",
              "      <th>4</th>\n",
              "      <td>102L</td>\n",
              "      <td>HYDROLASE(O-GLYCOSYL)</td>\n",
              "      <td>X-RAY DIFFRACTION</td>\n",
              "      <td>Protein</td>\n",
              "      <td>165</td>\n",
              "      <td>1.74</td>\n",
              "      <td>18926.61</td>\n",
              "      <td>0</td>\n",
              "      <td>0.0</td>\n",
              "      <td>2.75</td>\n",
              "      <td>55.28</td>\n",
              "      <td>0</td>\n",
              "      <td>0.0</td>\n",
              "      <td>1993.0</td>\n",
              "    </tr>\n",
              "    <tr>\n",
              "      <th>...</th>\n",
              "      <td>...</td>\n",
              "      <td>...</td>\n",
              "      <td>...</td>\n",
              "      <td>...</td>\n",
              "      <td>...</td>\n",
              "      <td>...</td>\n",
              "      <td>...</td>\n",
              "      <td>...</td>\n",
              "      <td>...</td>\n",
              "      <td>...</td>\n",
              "      <td>...</td>\n",
              "      <td>...</td>\n",
              "      <td>...</td>\n",
              "      <td>...</td>\n",
              "    </tr>\n",
              "    <tr>\n",
              "      <th>141396</th>\n",
              "      <td>9RUB</td>\n",
              "      <td>LYASE(CARBON-CARBON)</td>\n",
              "      <td>X-RAY DIFFRACTION</td>\n",
              "      <td>Protein</td>\n",
              "      <td>932</td>\n",
              "      <td>2.60</td>\n",
              "      <td>101838.68</td>\n",
              "      <td>0</td>\n",
              "      <td>0.0</td>\n",
              "      <td>2.38</td>\n",
              "      <td>48.29</td>\n",
              "      <td>0</td>\n",
              "      <td>0.0</td>\n",
              "      <td>1991.0</td>\n",
              "    </tr>\n",
              "    <tr>\n",
              "      <th>141397</th>\n",
              "      <td>9TNA</td>\n",
              "      <td>T-RNA</td>\n",
              "      <td>X-RAY DIFFRACTION</td>\n",
              "      <td>0</td>\n",
              "      <td>0</td>\n",
              "      <td>0.00</td>\n",
              "      <td>24244.34</td>\n",
              "      <td>0</td>\n",
              "      <td>0.0</td>\n",
              "      <td>3.17</td>\n",
              "      <td>61.18</td>\n",
              "      <td>0</td>\n",
              "      <td>0.0</td>\n",
              "      <td>1986.0</td>\n",
              "    </tr>\n",
              "    <tr>\n",
              "      <th>141398</th>\n",
              "      <td>9WGA</td>\n",
              "      <td>LECTIN (AGGLUTININ)</td>\n",
              "      <td>X-RAY DIFFRACTION</td>\n",
              "      <td>Protein</td>\n",
              "      <td>342</td>\n",
              "      <td>1.80</td>\n",
              "      <td>34270.22</td>\n",
              "      <td>0</td>\n",
              "      <td>0.0</td>\n",
              "      <td>2.50</td>\n",
              "      <td>50.76</td>\n",
              "      <td>0</td>\n",
              "      <td>0.0</td>\n",
              "      <td>1990.0</td>\n",
              "    </tr>\n",
              "    <tr>\n",
              "      <th>141399</th>\n",
              "      <td>9XIA</td>\n",
              "      <td>ISOMERASE(INTRAMOLECULAR OXIDOREDUCTASE)</td>\n",
              "      <td>X-RAY DIFFRACTION</td>\n",
              "      <td>Protein</td>\n",
              "      <td>388</td>\n",
              "      <td>1.90</td>\n",
              "      <td>43542.29</td>\n",
              "      <td>0</td>\n",
              "      <td>0.0</td>\n",
              "      <td>2.79</td>\n",
              "      <td>55.93</td>\n",
              "      <td>0</td>\n",
              "      <td>0.0</td>\n",
              "      <td>1989.0</td>\n",
              "    </tr>\n",
              "    <tr>\n",
              "      <th>141400</th>\n",
              "      <td>9XIM</td>\n",
              "      <td>ISOMERASE(INTRAMOLECULAR OXIDOREDUCTASE)</td>\n",
              "      <td>X-RAY DIFFRACTION</td>\n",
              "      <td>Protein</td>\n",
              "      <td>1572</td>\n",
              "      <td>2.40</td>\n",
              "      <td>174722.12</td>\n",
              "      <td>0</td>\n",
              "      <td>0.0</td>\n",
              "      <td>3.96</td>\n",
              "      <td>68.92</td>\n",
              "      <td>0</td>\n",
              "      <td>0.0</td>\n",
              "      <td>1992.0</td>\n",
              "    </tr>\n",
              "  </tbody>\n",
              "</table>\n",
              "<p>141401 rows × 14 columns</p>\n",
              "</div>"
            ],
            "text/plain": [
              "       structureId  ... publicationYear\n",
              "0             100D  ...          1994.0\n",
              "1             101D  ...          1995.0\n",
              "2             101M  ...          1999.0\n",
              "3             102D  ...          1995.0\n",
              "4             102L  ...          1993.0\n",
              "...            ...  ...             ...\n",
              "141396        9RUB  ...          1991.0\n",
              "141397        9TNA  ...          1986.0\n",
              "141398        9WGA  ...          1990.0\n",
              "141399        9XIA  ...          1989.0\n",
              "141400        9XIM  ...          1992.0\n",
              "\n",
              "[141401 rows x 14 columns]"
            ]
          },
          "metadata": {
            "tags": []
          },
          "execution_count": 11
        }
      ]
    },
    {
      "cell_type": "code",
      "metadata": {
        "id": "IPb3TTOt_tQj",
        "colab_type": "code",
        "outputId": "02418fd6-88d3-436d-c7f6-493c9be38696",
        "colab": {
          "base_uri": "https://localhost:8080/",
          "height": 340
        }
      },
      "source": [
        "a.info()"
      ],
      "execution_count": 0,
      "outputs": [
        {
          "output_type": "stream",
          "text": [
            "<class 'pandas.core.frame.DataFrame'>\n",
            "RangeIndex: 141401 entries, 0 to 141400\n",
            "Data columns (total 14 columns):\n",
            "structureId                 141401 non-null object\n",
            "classification              141399 non-null object\n",
            "experimentalTechnique       141401 non-null object\n",
            "macromoleculeType           137636 non-null object\n",
            "residueCount                141401 non-null int64\n",
            "resolution                  128589 non-null float64\n",
            "structureMolecularWeight    141401 non-null float64\n",
            "crystallizationMethod       96242 non-null object\n",
            "crystallizationTempK        97039 non-null float64\n",
            "densityMatthews             124724 non-null float64\n",
            "densityPercentSol           124749 non-null float64\n",
            "pdbxDetails                 118534 non-null object\n",
            "phValue                     105110 non-null float64\n",
            "publicationYear             117602 non-null float64\n",
            "dtypes: float64(7), int64(1), object(6)\n",
            "memory usage: 15.1+ MB\n"
          ],
          "name": "stdout"
        }
      ]
    },
    {
      "cell_type": "markdown",
      "metadata": {
        "id": "YXlkYfex__ee",
        "colab_type": "text"
      },
      "source": [
        "# Finding variability of variables in data set"
      ]
    },
    {
      "cell_type": "code",
      "metadata": {
        "id": "vWl3rbF5_x4k",
        "colab_type": "code",
        "outputId": "ad747c92-09e4-4cfe-ca8c-1e45ff0220e3",
        "colab": {
          "base_uri": "https://localhost:8080/",
          "height": 170
        }
      },
      "source": [
        "#variance\n",
        "a.var()"
      ],
      "execution_count": 0,
      "outputs": [
        {
          "output_type": "execute_result",
          "data": {
            "text/plain": [
              "residueCount                4.564466e+06\n",
              "resolution                  1.990578e+00\n",
              "structureMolecularWeight    3.237783e+11\n",
              "crystallizationTempK        9.103220e+01\n",
              "densityMatthews             6.142477e-01\n",
              "densityPercentSol           1.021022e+02\n",
              "phValue                     6.537321e+00\n",
              "publicationYear             7.155952e+01\n",
              "dtype: float64"
            ]
          },
          "metadata": {
            "tags": []
          },
          "execution_count": 14
        }
      ]
    },
    {
      "cell_type": "markdown",
      "metadata": {
        "id": "Hg8qN3PuAw2G",
        "colab_type": "text"
      },
      "source": [
        "# Data type and  sub category"
      ]
    },
    {
      "cell_type": "code",
      "metadata": {
        "id": "k7z2jFKcAwT7",
        "colab_type": "code",
        "outputId": "bfe395b7-7f06-405d-d46a-49f1fedfd855",
        "colab": {
          "base_uri": "https://localhost:8080/",
          "height": 272
        }
      },
      "source": [
        "a.dtypes"
      ],
      "execution_count": 0,
      "outputs": [
        {
          "output_type": "execute_result",
          "data": {
            "text/plain": [
              "structureId                  object\n",
              "classification               object\n",
              "experimentalTechnique        object\n",
              "macromoleculeType            object\n",
              "residueCount                  int64\n",
              "resolution                  float64\n",
              "structureMolecularWeight    float64\n",
              "crystallizationMethod        object\n",
              "crystallizationTempK        float64\n",
              "densityMatthews             float64\n",
              "densityPercentSol           float64\n",
              "pdbxDetails                  object\n",
              "phValue                     float64\n",
              "publicationYear             float64\n",
              "dtype: object"
            ]
          },
          "metadata": {
            "tags": []
          },
          "execution_count": 15
        }
      ]
    },
    {
      "cell_type": "markdown",
      "metadata": {
        "id": "rH39ecR-DUbg",
        "colab_type": "text"
      },
      "source": [
        "## Analysis of data with graphs"
      ]
    },
    {
      "cell_type": "markdown",
      "metadata": {
        "id": "9CI4LXqtW2ld",
        "colab_type": "text"
      },
      "source": [
        "# Scatter plot"
      ]
    },
    {
      "cell_type": "markdown",
      "metadata": {
        "id": "DubbjI6DKw40",
        "colab_type": "text"
      },
      "source": [
        "# **describing correlation  between ph values and densitymatthews**"
      ]
    },
    {
      "cell_type": "code",
      "metadata": {
        "id": "Pavzus2ALdjQ",
        "colab_type": "code",
        "outputId": "1bc28d82-ec40-4942-9a57-843a8ff6f757",
        "colab": {
          "base_uri": "https://localhost:8080/",
          "height": 265
        }
      },
      "source": [
        "plt.scatter(a['phValue'],a['densityMatthews'])\n",
        "plt.xlabel=('phValue')\n",
        "plt.ylabel=('densityMatthews')\n",
        "plt.show()"
      ],
      "execution_count": 0,
      "outputs": [
        {
          "output_type": "display_data",
          "data": {
            "image/png": "[encoded data removed]",
            "text/plain": [
              "<Figure size 432x288 with 1 Axes>"
            ]
          },
          "metadata": {
            "tags": []
          }
        }
      ]
    },
    {
      "cell_type": "markdown",
      "metadata": {
        "id": "g7Q6n0YVOHtN",
        "colab_type": "text"
      },
      "source": [
        "# describing the corelation between ph value and structuremolecularweight"
      ]
    },
    {
      "cell_type": "code",
      "metadata": {
        "id": "VXGoCWLUNsZH",
        "colab_type": "code",
        "outputId": "53d4b4ce-f4b3-43fb-9f7c-38e5d4c11b43",
        "colab": {
          "base_uri": "https://localhost:8080/",
          "height": 293
        }
      },
      "source": [
        "plt.scatter(a['phValue'],a['structureMolecularWeight'],c='red')"
      ],
      "execution_count": 0,
      "outputs": [
        {
          "output_type": "execute_result",
          "data": {
            "text/plain": [
              "<matplotlib.collections.PathCollection at 0x7fa9f4b33240>"
            ]
          },
          "metadata": {
            "tags": []
          },
          "execution_count": 23
        },
        {
          "output_type": "display_data",
          "data": {
            "image/png": "[encoded data removed]",
            "text/plain": [
              "<Figure size 432x288 with 1 Axes>"
            ]
          },
          "metadata": {
            "tags": []
          }
        }
      ]
    },
    {
      "cell_type": "markdown",
      "metadata": {
        "id": "Tnaq5JcGW_s1",
        "colab_type": "text"
      },
      "source": [
        "#  Histogram"
      ]
    },
    {
      "cell_type": "code",
      "metadata": {
        "id": "g1ITAtF6XL8j",
        "colab_type": "code",
        "outputId": "79bf4044-6836-47f0-fb31-685eca1cca55",
        "colab": {
          "base_uri": "https://localhost:8080/",
          "height": 438
        }
      },
      "source": [
        "#for ph values\n",
        "plt.hist(a['phValue'])List item"
      ],
      "execution_count": 0,
      "outputs": [
        {
          "output_type": "stream",
          "text": [
            "/usr/local/lib/python3.6/dist-packages/numpy/lib/histograms.py:839: RuntimeWarning: invalid value encountered in greater_equal\n",
            "  keep = (tmp_a >= first_edge)\n",
            "/usr/local/lib/python3.6/dist-packages/numpy/lib/histograms.py:840: RuntimeWarning: invalid value encountered in less_equal\n",
            "  keep &= (tmp_a <= last_edge)\n"
          ],
          "name": "stderr"
        },
        {
          "output_type": "execute_result",
          "data": {
            "text/plain": [
              "(array([1.05108e+05, 1.00000e+00, 0.00000e+00, 0.00000e+00, 0.00000e+00,\n",
              "        0.00000e+00, 0.00000e+00, 0.00000e+00, 0.00000e+00, 1.00000e+00]),\n",
              " array([  0. ,  72.4, 144.8, 217.2, 289.6, 362. , 434.4, 506.8, 579.2,\n",
              "        651.6, 724. ]),\n",
              " <a list of 10 Patch objects>)"
            ]
          },
          "metadata": {
            "tags": []
          },
          "execution_count": 37
        },
        {
          "output_type": "display_data",
          "data": {
            "image/png": "[encoded data removed]",
            "text/plain": [
              "<Figure size 432x288 with 1 Axes>"
            ]
          },
          "metadata": {
            "tags": []
          }
        }
      ]
    },
    {
      "cell_type": "code",
      "metadata": {
        "id": "Bq0S4H87XdQ3",
        "colab_type": "code",
        "outputId": "30c1a50b-235e-4be3-a474-8853cb5e21a4",
        "colab": {
          "base_uri": "https://localhost:8080/",
          "height": 350
        }
      },
      "source": [
        "#for residue\n",
        "plt.hist(a['residueCount'])"
      ],
      "execution_count": 0,
      "outputs": [
        {
          "output_type": "execute_result",
          "data": {
            "text/plain": [
              "(array([1.41327e+05, 7.00000e+01, 1.00000e+00, 0.00000e+00, 0.00000e+00,\n",
              "        1.00000e+00, 0.00000e+00, 0.00000e+00, 1.00000e+00, 1.00000e+00]),\n",
              " array([     0. ,  31323.6,  62647.2,  93970.8, 125294.4, 156618. ,\n",
              "        187941.6, 219265.2, 250588.8, 281912.4, 313236. ]),\n",
              " <a list of 10 Patch objects>)"
            ]
          },
          "metadata": {
            "tags": []
          },
          "execution_count": 38
        },
        {
          "output_type": "display_data",
          "data": {
            "image/png": "[encoded data removed]",
            "text/plain": [
              "<Figure size 432x288 with 1 Axes>"
            ]
          },
          "metadata": {
            "tags": []
          }
        }
      ]
    },
    {
      "cell_type": "markdown",
      "metadata": {
        "id": "SYqN5ra2q2en",
        "colab_type": "text"
      },
      "source": [
        "# Finding the outliers in the in the dataset"
      ]
    },
    {
      "cell_type": "code",
      "metadata": {
        "id": "bhgiHpKmrKrR",
        "colab_type": "code",
        "outputId": "9ab38553-0698-456f-f040-912e7408a98a",
        "colab": {
          "base_uri": "https://localhost:8080/",
          "height": 296
        }
      },
      "source": [
        "sb.boxplot(a['phValue'])"
      ],
      "execution_count": 0,
      "outputs": [
        {
          "output_type": "execute_result",
          "data": {
            "text/plain": [
              "<matplotlib.axes._subplots.AxesSubplot at 0x7fa9e59919e8>"
            ]
          },
          "metadata": {
            "tags": []
          },
          "execution_count": 40
        },
        {
          "output_type": "display_data",
          "data": {
            "image/png": "[encoded data removed]",
            "text/plain": [
              "<Figure size 432x288 with 1 Axes>"
            ]
          },
          "metadata": {
            "tags": []
          }
        }
      ]
    },
    {
      "cell_type": "markdown",
      "metadata": {
        "id": "Jzzcf2yAOu_U",
        "colab_type": "text"
      },
      "source": [
        "# General analysis"
      ]
    },
    {
      "cell_type": "code",
      "metadata": {
        "id": "QXYqXn5TAu2k",
        "colab_type": "code",
        "outputId": "b9227260-da1a-4573-ec6a-449b0a374c3e",
        "colab": {
          "base_uri": "https://localhost:8080/",
          "height": 349
        }
      },
      "source": [
        "p=a['phValue']\n",
        "q=a['densityMatthews']\n",
        "plt.plot(p,color='red',label='lineone',marker='o',markerfacecolor='red')\n",
        "plt.plot(p,color='blue',label='linetwo',marker='o',markerfacecolor='blue')\n",
        "plt.legend()\n",
        "plt.xlabel('xaxis')\n",
        "plt.ylabel('yaxis')\n",
        "plt.title('line plot')\n",
        "plt.show()"
      ],
      "execution_count": 0,
      "outputs": [
        {
          "output_type": "stream",
          "text": [
            "/usr/local/lib/python3.6/dist-packages/IPython/core/pylabtools.py:125: UserWarning: Creating legend with loc=\"best\" can be slow with large amounts of data.\n",
            "  fig.canvas.print_figure(bytes_io, **kw)\n"
          ],
          "name": "stderr"
        },
        {
          "output_type": "display_data",
          "data": {
            "image/png": "[encoded data removed]",
            "text/plain": [
              "<Figure size 432x288 with 1 Axes>"
            ]
          },
          "metadata": {
            "tags": []
          }
        }
      ]
    },
    {
      "cell_type": "markdown",
      "metadata": {
        "id": "RUWS7BnhRY_4",
        "colab_type": "text"
      },
      "source": [
        "# Answers\n"
      ]
    },
    {
      "cell_type": "code",
      "metadata": {
        "id": "BPbYr-u-Ipju",
        "colab_type": "code",
        "outputId": "8ea1543e-4861-432c-93cd-53c3e142228e",
        "colab": {
          "base_uri": "https://localhost:8080/",
          "height": 34
        }
      },
      "source": [
        "# question:1\n",
        "#highest structure molecularweight noted\n",
        "a['structureMolecularWeight'].max()"
      ],
      "execution_count": 0,
      "outputs": [
        {
          "output_type": "execute_result",
          "data": {
            "text/plain": [
              "97730536.0"
            ]
          },
          "metadata": {
            "tags": []
          },
          "execution_count": 26
        }
      ]
    },
    {
      "cell_type": "code",
      "metadata": {
        "id": "96D49G6eSEy6",
        "colab_type": "code",
        "outputId": "0e5cb923-b1df-4f82-ea37-c650824c51a5",
        "colab": {
          "base_uri": "https://localhost:8080/",
          "height": 34
        }
      },
      "source": [
        "#question:2\n",
        "#avg ph value of protiens\n",
        "a['phValue'].mean()"
      ],
      "execution_count": 0,
      "outputs": [
        {
          "output_type": "execute_result",
          "data": {
            "text/plain": [
              "6.7886853772235245"
            ]
          },
          "metadata": {
            "tags": []
          },
          "execution_count": 25
        }
      ]
    },
    {
      "cell_type": "code",
      "metadata": {
        "id": "rHL-w5_VSciq",
        "colab_type": "code",
        "outputId": "105059b2-bac3-458a-a66d-3115eb652f36",
        "colab": {
          "base_uri": "https://localhost:8080/",
          "height": 34
        }
      },
      "source": [
        "#question:3\n",
        "#avg molecularweight of protiens\n",
        "a['structureMolecularWeight'].mean()"
      ],
      "execution_count": 0,
      "outputs": [
        {
          "output_type": "execute_result",
          "data": {
            "text/plain": [
              "112079.0006137876"
            ]
          },
          "metadata": {
            "tags": []
          },
          "execution_count": 27
        }
      ]
    },
    {
      "cell_type": "code",
      "metadata": {
        "id": "_3lfQwSlTAHy",
        "colab_type": "code",
        "outputId": "8415f1d3-04ee-402e-fce0-74f46127575d",
        "colab": {
          "base_uri": "https://localhost:8080/",
          "height": 34
        }
      },
      "source": [
        "#question:4\n",
        "# highest crystallization temp noted\n",
        "a['crystallizationTempK'].max()\n"
      ],
      "execution_count": 0,
      "outputs": [
        {
          "output_type": "execute_result",
          "data": {
            "text/plain": [
              "398.0"
            ]
          },
          "metadata": {
            "tags": []
          },
          "execution_count": 28
        }
      ]
    },
    {
      "cell_type": "code",
      "metadata": {
        "id": "83YQUmm0TVlL",
        "colab_type": "code",
        "outputId": "c10b71b5-c583-4bec-c417-5ed1adf89a1c",
        "colab": {
          "base_uri": "https://localhost:8080/",
          "height": 34
        }
      },
      "source": [
        "#question:5\n",
        "#avg  density percentagesols of the protiens\n",
        "a['densityPercentSol'].mean()"
      ],
      "execution_count": 0,
      "outputs": [
        {
          "output_type": "execute_result",
          "data": {
            "text/plain": [
              "51.353163071446644"
            ]
          },
          "metadata": {
            "tags": []
          },
          "execution_count": 29
        }
      ]
    },
    {
      "cell_type": "code",
      "metadata": {
        "id": "7jPLcYidUDKr",
        "colab_type": "code",
        "outputId": "b1f00bfa-dd9e-4385-a395-ca63790dda3b",
        "colab": {
          "base_uri": "https://localhost:8080/",
          "height": 34
        }
      },
      "source": [
        "#question:6\n",
        "#highest ph value\n",
        "a['phValue'].max()"
      ],
      "execution_count": 0,
      "outputs": [
        {
          "output_type": "execute_result",
          "data": {
            "text/plain": [
              "724.0"
            ]
          },
          "metadata": {
            "tags": []
          },
          "execution_count": 30
        }
      ]
    },
    {
      "cell_type": "code",
      "metadata": {
        "id": "HDFhyvCtUWmz",
        "colab_type": "code",
        "outputId": "0c1f6b1e-3e00-4674-b0e5-2d3148378f0b",
        "colab": {
          "base_uri": "https://localhost:8080/",
          "height": 51
        }
      },
      "source": [
        "#question:7\n",
        "#technique is used to perform experiment\n",
        "a['experimentalTechnique'].mode()"
      ],
      "execution_count": 0,
      "outputs": [
        {
          "output_type": "execute_result",
          "data": {
            "text/plain": [
              "0    X-RAY DIFFRACTION\n",
              "dtype: object"
            ]
          },
          "metadata": {
            "tags": []
          },
          "execution_count": 32
        }
      ]
    },
    {
      "cell_type": "code",
      "metadata": {
        "id": "kd-muDqSUkob",
        "colab_type": "code",
        "outputId": "a8a5f4ec-e7f8-4b7c-efdb-759a5e140e4e",
        "colab": {
          "base_uri": "https://localhost:8080/",
          "height": 51
        }
      },
      "source": [
        "#question:8\n",
        "#macromolucular form the max protiens are occured\n",
        "a['macromoleculeType'].mode()"
      ],
      "execution_count": 0,
      "outputs": [
        {
          "output_type": "execute_result",
          "data": {
            "text/plain": [
              "0    Protein\n",
              "dtype: object"
            ]
          },
          "metadata": {
            "tags": []
          },
          "execution_count": 33
        }
      ]
    },
    {
      "cell_type": "code",
      "metadata": {
        "id": "ymtiWwfbVDF8",
        "colab_type": "code",
        "outputId": "3bfd56f8-a149-4271-8d93-a27c2df44340",
        "colab": {
          "base_uri": "https://localhost:8080/",
          "height": 34
        }
      },
      "source": [
        "#question:9\n",
        "# the highest residue count in the experiment\n",
        "a['residueCount'].max()"
      ],
      "execution_count": 0,
      "outputs": [
        {
          "output_type": "execute_result",
          "data": {
            "text/plain": [
              "313236"
            ]
          },
          "metadata": {
            "tags": []
          },
          "execution_count": 34
        }
      ]
    },
    {
      "cell_type": "code",
      "metadata": {
        "id": "HfF3itI1VeIh",
        "colab_type": "code",
        "outputId": "f47ef489-d094-443e-d3df-440b38c6966b",
        "colab": {
          "base_uri": "https://localhost:8080/",
          "height": 34
        }
      },
      "source": [
        "#question:10\n",
        "#the avg resolution occured in the experiment\n",
        "a['resolution'].mean()"
      ],
      "execution_count": 0,
      "outputs": [
        {
          "output_type": "execute_result",
          "data": {
            "text/plain": [
              "2.2638067797401202"
            ]
          },
          "metadata": {
            "tags": []
          },
          "execution_count": 36
        }
      ]
    },
    {
      "cell_type": "markdown",
      "metadata": {
        "id": "eYiarGmMY-LH",
        "colab_type": "text"
      },
      "source": [
        "# Conclusions"
      ]
    },
    {
      "cell_type": "markdown",
      "metadata": {
        "id": "EfYp1z6UZHKo",
        "colab_type": "text"
      },
      "source": [
        "The PDB archive is a repository of atomic coordinates and other information describing proteins and other important biological macromolecules. Structural biologists use methods such as X-ray crystallography, NMR spectroscopy, and cryo-electron microscopy to determine the location of each atom relative to each other in the molecule. They then deposit this information, which is then annotated and publicly released into the archive by the wwPDB.\n",
        "\n"
      ]
    },
    {
      "cell_type": "markdown",
      "metadata": {
        "id": "_OorN2iuZ5g3",
        "colab_type": "text"
      },
      "source": [
        "There are two data files. Both are arranged on \"structureId\" of the protein:\n",
        "\n",
        "pdbdatano_dups.csv contains protein meta data which includes details on protein classification, extraction methods, etc.\n",
        "\n",
        "data_seq.csv contains >400,000 protein structure sequences."
      ]
    },
    {
      "cell_type": "markdown",
      "metadata": {
        "id": "2JsyZwI6aFOg",
        "colab_type": "text"
      },
      "source": [
        "# \"Code MaKers\":-**team members details**"
      ]
    },
    {
      "cell_type": "markdown",
      "metadata": {
        "id": "nP3L-gm8avWA",
        "colab_type": "text"
      },
      "source": [
        "\n",
        "\n",
        "1.   M.Rohit Surya  -19PA1A05B4 - CSE-B\n",
        "\n",
        "1.   N.Lakshmi Durga Naidu - 19PA1A05C4 -CSE-B\n",
        "2.   N.Lakshmi Prasanna -19PA1A05C5 -CSE-B\n",
        "\n",
        "2.   K.Reema Sharon -19PA1A0573 - CSE-B\n",
        "\n"
      ]
    }
  ]
}